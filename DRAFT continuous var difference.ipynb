{
 "cells": [
  {
   "cell_type": "markdown",
   "id": "c8263ff4",
   "metadata": {},
   "source": [
    " \n",
    "* make N random draws for a continuous nbr gaussian\n",
    "* make a different N for another mean\n",
    "* can I tell the difference"
   ]
  },
  {
   "cell_type": "code",
   "execution_count": 1,
   "id": "775120d5",
   "metadata": {},
   "outputs": [],
   "source": [
    "import numpy as np\n",
    "import pandas as pd\n",
    "import matplotlib as mpl\n",
    "\n",
    "import matplotlib.pyplot as plt\n",
    "from scipy.stats import ks_2samp\n"
   ]
  },
  {
   "cell_type": "code",
   "execution_count": 46,
   "id": "6d8280eb",
   "metadata": {},
   "outputs": [],
   "source": []
  },
  {
   "cell_type": "code",
   "execution_count": 47,
   "id": "06d72fb6",
   "metadata": {},
   "outputs": [
    {
     "data": {
      "text/plain": [
       "(9.853846153846154, 9.404615384615385)"
      ]
     },
     "execution_count": 47,
     "metadata": {},
     "output_type": "execute_result"
    }
   ],
   "source": [
    "days_A.mean(), days_B.mean()"
   ]
  },
  {
   "cell_type": "code",
   "execution_count": 73,
   "id": "f931d6c9",
   "metadata": {},
   "outputs": [
    {
     "data": {
      "text/plain": [
       "966"
      ]
     },
     "execution_count": 73,
     "metadata": {},
     "output_type": "execute_result"
    }
   ],
   "source": [
    "SIZE_A = SIZE_B = 650 * 3\n",
    "pvalues = []\n",
    "for n in range(1000):\n",
    "# 10d visit on average vs 9.5d visit to garage\n",
    "    days_A = np.random.poisson(lam=10, size=SIZE_A)\n",
    "    days_B = np.random.poisson(lam=9.5, size=SIZE_B)\n",
    "    #alternative='less'\n",
    "    alternative='two-sided'\n",
    "    _, pvalue = ks_2samp(days_A, days_B, alternative=alternative)\n",
    "    pvalues.append(pvalue)\n",
    "(np.array(pvalues) < 0.05).sum()"
   ]
  },
  {
   "cell_type": "code",
   "execution_count": 78,
   "id": "7ee6983e",
   "metadata": {},
   "outputs": [
    {
     "data": {
      "text/plain": [
       "9.531282051282052"
      ]
     },
     "execution_count": 78,
     "metadata": {},
     "output_type": "execute_result"
    }
   ],
   "source": [
    "days_B.mean()"
   ]
  },
  {
   "cell_type": "code",
   "execution_count": null,
   "id": "6629cc08",
   "metadata": {},
   "outputs": [],
   "source": []
  }
 ],
 "metadata": {
  "kernelspec": {
   "display_name": "Python 3 (ipykernel)",
   "language": "python",
   "name": "python3"
  },
  "language_info": {
   "codemirror_mode": {
    "name": "ipython",
    "version": 3
   },
   "file_extension": ".py",
   "mimetype": "text/x-python",
   "name": "python",
   "nbconvert_exporter": "python",
   "pygments_lexer": "ipython3",
   "version": "3.8.10"
  }
 },
 "nbformat": 4,
 "nbformat_minor": 5
}
